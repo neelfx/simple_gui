{
 "cells": [
  {
   "cell_type": "markdown",
   "metadata": {
    "ExecuteTime": {
     "end_time": "2021-02-21T20:50:36.876527Z",
     "start_time": "2021-02-21T20:50:36.856528Z"
    }
   },
   "source": [
    "# Creating a simple GUI"
   ]
  },
  {
   "cell_type": "markdown",
   "metadata": {},
   "source": [
    "In this repo I go through the different functionality of a Python GUI Library that is packaged with Python called 'Tkinter'.\n",
    "\n",
    "\n",
    "- hello.py: \n",
    "This is where I create a simple window with a 'Hello World' label in the window. The 'pack()' method is used to quickly..pack it all in into the window without worrying about specifying where.\n",
    "\n",
    "![Hello](images/hello.png)\n",
    "\n",
    "\n",
    "- grid.py\n",
    "This is where I instead of 'packing' it all into the window I try the grid layout to put text into specific rows and columns.\n",
    "\n",
    "\n",
    "![Grid](images/grid.png)\n",
    "\n",
    "\n",
    "- buttons.py\n",
    "This is where I try a button for the first time - woohoo!\n",
    "\n",
    "\n",
    "![Button](images/button.png)\n",
    "\n",
    "\n",
    "- entry.py\n",
    "This is where I make the button actually do something by adding an entry field that asks for my name, when I press the button a label appears below greeting me.\n",
    "\n",
    "![Hello](images/entry.png)"
   ]
  },
  {
   "cell_type": "markdown",
   "metadata": {},
   "source": [
    "# I'll be adding to this as I try new wonderful things with the GUI."
   ]
  },
  {
   "cell_type": "code",
   "execution_count": null,
   "metadata": {},
   "outputs": [],
   "source": []
  }
 ],
 "metadata": {
  "kernelspec": {
   "display_name": "Python 3",
   "language": "python",
   "name": "python3"
  },
  "language_info": {
   "codemirror_mode": {
    "name": "ipython",
    "version": 3
   },
   "file_extension": ".py",
   "mimetype": "text/x-python",
   "name": "python",
   "nbconvert_exporter": "python",
   "pygments_lexer": "ipython3",
   "version": "3.6.8"
  },
  "toc": {
   "base_numbering": 1,
   "nav_menu": {},
   "number_sections": true,
   "sideBar": true,
   "skip_h1_title": false,
   "title_cell": "Table of Contents",
   "title_sidebar": "Contents",
   "toc_cell": false,
   "toc_position": {},
   "toc_section_display": true,
   "toc_window_display": false
  }
 },
 "nbformat": 4,
 "nbformat_minor": 2
}
